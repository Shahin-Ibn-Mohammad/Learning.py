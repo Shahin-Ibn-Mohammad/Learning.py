{
  "nbformat": 4,
  "nbformat_minor": 0,
  "metadata": {
    "colab": {
      "provenance": [],
      "authorship_tag": "ABX9TyPMLTTH/+rH6BPnX52d320E",
      "include_colab_link": true
    },
    "kernelspec": {
      "name": "python3",
      "display_name": "Python 3"
    },
    "language_info": {
      "name": "python"
    }
  },
  "cells": [
    {
      "cell_type": "markdown",
      "metadata": {
        "id": "view-in-github",
        "colab_type": "text"
      },
      "source": [
        "<a href=\"https://colab.research.google.com/github/Shahin-Ibn-Mohammad/Learning.py/blob/master/Untitled0.ipynb\" target=\"_parent\"><img src=\"https://colab.research.google.com/assets/colab-badge.svg\" alt=\"Open In Colab\"/></a>"
      ]
    },
    {
      "cell_type": "code",
      "execution_count": 5,
      "metadata": {
        "colab": {
          "base_uri": "https://localhost:8080/"
        },
        "id": "X-d2aBvLNoYC",
        "outputId": "db9a3fb9-f42f-4eb9-f201-93141ddae9e5"
      },
      "outputs": [
        {
          "output_type": "stream",
          "name": "stdout",
          "text": [
            "enter your marks:88\n",
            "A+;GPA:5.00\n"
          ]
        }
      ],
      "source": [
        "marks= float(input(\"enter your marks:\"))\n",
        "if marks>=80:\n",
        "  print('A+;GPA:5.00')\n",
        "elif marks>=70:\n",
        "  print('A;GPA:4.50')\n",
        "elif marks>=60:\n",
        "  print('A-; GPA:4.00')\n",
        "elif marks>=50:\n",
        "  print('B;GPA:3.50')\n",
        "else:\n",
        "  print('F')\n"
      ]
    }
  ]
}