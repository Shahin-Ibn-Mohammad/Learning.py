{
  "nbformat": 4,
  "nbformat_minor": 0,
  "metadata": {
    "colab": {
      "provenance": [],
      "include_colab_link": true
    },
    "kernelspec": {
      "name": "python3",
      "display_name": "Python 3"
    },
    "language_info": {
      "name": "python"
    }
  },
  "cells": [
    {
      "cell_type": "markdown",
      "metadata": {
        "id": "view-in-github",
        "colab_type": "text"
      },
      "source": [
        "<a href=\"https://colab.research.google.com/github/Shahin-Ibn-Mohammad/Learning.py/blob/master/Copy_of_Python_First_class.ipynb\" target=\"_parent\"><img src=\"https://colab.research.google.com/assets/colab-badge.svg\" alt=\"Open In Colab\"/></a>"
      ]
    },
    {
      "cell_type": "code",
      "execution_count": null,
      "metadata": {
        "colab": {
          "base_uri": "https://localhost:8080/"
        },
        "id": "zF8zmzI2jHXV",
        "outputId": "285dbba2-0b66-4647-94e6-35c4e0d6e2a5"
      },
      "outputs": [
        {
          "output_type": "stream",
          "name": "stdout",
          "text": [
            "enter your marks:89\n",
            "A+\n"
          ]
        }
      ],
      "source": [
        "# GPA calculator\n",
        "marks=float(input('enter your marks:'))\n",
        "if marks >=80:\n",
        "  print('A+')\n",
        "elif marks >=70:\n",
        "  print('A')\n",
        "elif marks >=60:\n",
        "  print('A-')\n",
        "elif marks >=50:\n",
        "  print('B')\n",
        "else:\n",
        "  print('F')\n",
        "\n",
        "\n",
        "\n"
      ]
    },
    {
      "cell_type": "markdown",
      "source": [],
      "metadata": {
        "id": "PPKNhb0QQCMn"
      }
    },
    {
      "cell_type": "code",
      "source": [
        "# cgpa calculator\n",
        "Assignment= float(input('enter your assignment:'))\n",
        "Attendance=float(input('enter your attendance:'))\n",
        "Mid=float(input('enter your mid:'))\n",
        "Final=float(input('enter your final:'))\n",
        "GPA=Assignment+Attendance+Mid+Final\n",
        "\n",
        "if GPA >= 80.00:\n",
        "  grade= \"A+ , 4.00\"\n",
        "  print('your grade is:', grade)\n",
        "elif GPA >= 70:\n",
        "  grade=\"A,3.75\"\n",
        "  print('your grade is:',grade)\n",
        "elif GPA >=60:\n",
        "  grade=\"A-,3.500\"\n",
        "  print('your grade is:',grade)\n",
        "else:\n",
        "  grade=\"F,0.00\"\n",
        "  print('your grade is:',grade)\n"
      ],
      "metadata": {
        "id": "OE-CEylg_cj4",
        "colab": {
          "base_uri": "https://localhost:8080/"
        },
        "outputId": "c25c7181-4d98-4954-826d-d4972d04f4ff"
      },
      "execution_count": null,
      "outputs": [
        {
          "output_type": "stream",
          "name": "stdout",
          "text": [
            "enter your assignment:2\n",
            "enter your attendance:2\n",
            "enter your mid:18\n",
            "enter your final:30\n",
            "your grade is: F,0.00\n"
          ]
        }
      ]
    },
    {
      "cell_type": "markdown",
      "source": [],
      "metadata": {
        "id": "QDTb-sc3phCO"
      }
    }
  ]
}